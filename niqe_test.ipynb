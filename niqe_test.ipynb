{
 "cells": [
  {
   "cell_type": "code",
   "execution_count": 7,
   "metadata": {},
   "outputs": [],
   "source": [
    "import imp\n",
    "import os\n",
    "import niqe\n",
    "import cv2\n",
    "import numpy as np\n",
    "import UCIQE\n",
    "import UIQM\n",
    "\n",
    "from PIL import Image\n",
    "from torchvision.transforms import ToTensor\n",
    " \n"
   ]
  },
  {
   "cell_type": "code",
   "execution_count": 8,
   "metadata": {},
   "outputs": [],
   "source": [
    "def cal_niqe(name_list, root):\n",
    "\n",
    "    mniqe = 0\n",
    "    for name in name_list:\n",
    "        # print(root)\n",
    "        img_path = os.path.join(root, name)\n",
    "        img = cv2.imread(img_path)\n",
    "\n",
    "        mniqe += niqe.calculate_niqe(img, 64)[0][0]\n",
    "\n",
    "    mniqe /= 8\n",
    "    return mniqe\n",
    "\n",
    "def cal_uciqe(name_list, root):\n",
    "\n",
    "    uciqe = 0\n",
    "    for name in name_list:\n",
    "        # print(root)\n",
    "        img_path = os.path.join(root, name)\n",
    "        img = cv2.imread(img_path)\n",
    "\n",
    "        uciqe += UCIQE.calculate_UCIQE(img_path)\n",
    "\n",
    "    uciqe /= 8\n",
    "    return uciqe\n",
    "\n",
    "\n",
    "def cal_uiqm(name_list, root):\n",
    "\n",
    "    uiqm = 0\n",
    "    for name in name_list:\n",
    "        # print(root)\n",
    "        img_path = os.path.join(root, name)\n",
    "        img = cv2.imread(img_path)\n",
    "\n",
    "        uiqm += UIQM.calculate_UIQM(img_path)\n",
    "\n",
    "    uiqm /= 8\n",
    "    return uiqm\n"
   ]
  },
  {
   "cell_type": "code",
   "execution_count": 9,
   "metadata": {},
   "outputs": [],
   "source": [
    "from pyexpat import model\n",
    "\n",
    "def cal_some(mode):\n",
    "    root = '/home/lairoucheng/UIE_Model/output/'\n",
    "\n",
    "    model_name = os.listdir(root)\n",
    "    # print(model_name)\n",
    "    x = 0\n",
    "    for name in model_name:\n",
    "        img_list = ['3.jpg', '16.jpg', '47.jpg', '246.jpg', '554.jpg', '2129.jpg', '2552.jpg', '5015.jpg']\n",
    "        dir = os.path.join(root, name)\n",
    "        dir = dir + '/'\n",
    "        # print(dir)\n",
    "        x = 0\n",
    "        if mode == 'niqe':\n",
    "            x = cal_niqe(img_list, dir)\n",
    "        elif mode == 'uciqe':\n",
    "            x = cal_uciqe(img_list, dir)\n",
    "        elif mode == 'uiqm':\n",
    "            x = cal_uiqm(img_list, dir)\n",
    "        \n",
    "        print(mode + ':' + name + ':' + str(x))\n"
   ]
  },
  {
   "cell_type": "code",
   "execution_count": 10,
   "metadata": {},
   "outputs": [
    {
     "name": "stdout",
     "output_type": "stream",
     "text": [
      "niqe:PUIE-net:4.104559209145907\n",
      "niqe:Enhance_RGHS:4.117468682404951\n",
      "niqe:FiveAPlusNet:4.139974049553195\n",
      "niqe:UDnet:4.616961137175077\n",
      "niqe:Color_restoration_ULAP:4.843324258688623\n",
      "niqe:Deep_WaveNet:4.329913412029599\n"
     ]
    }
   ],
   "source": [
    "cal_some('niqe')"
   ]
  },
  {
   "cell_type": "code",
   "execution_count": 11,
   "metadata": {},
   "outputs": [
    {
     "name": "stdout",
     "output_type": "stream",
     "text": [
      "uciqe:PUIE-net:0.4555970657328937\n",
      "uciqe:Enhance_RGHS:0.4731395112095641\n",
      "uciqe:FiveAPlusNet:0.42850016883030584\n",
      "uciqe:UDnet:0.36417954657719165\n",
      "uciqe:Color_restoration_ULAP:0.49567878336394205\n",
      "uciqe:Deep_WaveNet:0.4017061215515139\n"
     ]
    }
   ],
   "source": [
    "cal_some('uciqe')"
   ]
  },
  {
   "cell_type": "code",
   "execution_count": 12,
   "metadata": {},
   "outputs": [
    {
     "name": "stdout",
     "output_type": "stream",
     "text": [
      "uiqm:PUIE-net:0.8543990346789551\n",
      "uiqm:Enhance_RGHS:0.9172809102088725\n",
      "uiqm:FiveAPlusNet:0.8298091886775707\n",
      "uiqm:UDnet:0.5181341696492343\n",
      "uiqm:Color_restoration_ULAP:0.9220928466770693\n",
      "uiqm:Deep_WaveNet:0.7075807721579523\n"
     ]
    }
   ],
   "source": [
    "cal_some('uiqm')"
   ]
  },
  {
   "cell_type": "code",
   "execution_count": null,
   "metadata": {},
   "outputs": [],
   "source": []
  }
 ],
 "metadata": {
  "kernelspec": {
   "display_name": "py3.7-torch1.5",
   "language": "python",
   "name": "python3"
  },
  "language_info": {
   "codemirror_mode": {
    "name": "ipython",
    "version": 3
   },
   "file_extension": ".py",
   "mimetype": "text/x-python",
   "name": "python",
   "nbconvert_exporter": "python",
   "pygments_lexer": "ipython3",
   "version": "3.7.16"
  }
 },
 "nbformat": 4,
 "nbformat_minor": 2
}
